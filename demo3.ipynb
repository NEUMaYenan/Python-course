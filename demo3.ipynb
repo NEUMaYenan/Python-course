{
 "cells": [
  {
   "cell_type": "markdown",
   "metadata": {},
   "source": [
    "高阶函数\n",
    "变量可以指向函数：函数本身也可以赋值给变量，可以通过该变量来调用函数。f=abs，f(-10)\n",
    "传入函数：一个函数可以接受另一个函数作为参数，这种函数就称之为高阶函数\n",
    "\n",
    "map()就是高阶函数，接受两个参数，一个是函数，一个是Iterable，map将传入的函数依次作用到序列的每个元素，并把结果作为新的Iterator返回,可以通过list()函数把整个序列都计算出来并返回一个list\n",
    "\n",
    "reduce()\n",
    "\n"
   ]
  },
  {
   "cell_type": "code",
   "execution_count": 9,
   "metadata": {},
   "outputs": [
    {
     "data": {
      "text/plain": [
       "['1', '2', '3', '4', '5', '6', '7', '8', '9']"
      ]
     },
     "execution_count": 9,
     "metadata": {},
     "output_type": "execute_result"
    }
   ],
   "source": [
    "def add(x,y,f):\n",
    "    return f(x)+f(y)\n",
    "add(-5,6,abs)\n",
    "\n",
    "def f(x):\n",
    "    return x*x\n",
    "r=map(f,[1,2,3,4,5,6,7,8,9])\n",
    "list(r)\n",
    "\n",
    "list(map(str,[1,2,3,4,5,6,7,8,9]))\n",
    "#将这个list所有数字转为字符串"
   ]
  },
  {
   "cell_type": "code",
   "execution_count": null,
   "metadata": {},
   "outputs": [],
   "source": []
  }
 ],
 "metadata": {
  "kernelspec": {
   "display_name": "Python 3",
   "language": "python",
   "name": "python3"
  },
  "language_info": {
   "codemirror_mode": {
    "name": "ipython",
    "version": 3
   },
   "file_extension": ".py",
   "mimetype": "text/x-python",
   "name": "python",
   "nbconvert_exporter": "python",
   "pygments_lexer": "ipython3",
   "version": "3.12.3"
  }
 },
 "nbformat": 4,
 "nbformat_minor": 2
}
