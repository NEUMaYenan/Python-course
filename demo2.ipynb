{
 "cells": [
  {
   "cell_type": "code",
   "execution_count": 26,
   "metadata": {},
   "outputs": [
    {
     "name": "stdout",
     "output_type": "stream",
     "text": [
      "3.14\n"
     ]
    }
   ],
   "source": [
    "print('%.2f'%3.1415926)"
   ]
  },
  {
   "cell_type": "code",
   "execution_count": 28,
   "metadata": {},
   "outputs": [
    {
     "data": {
      "text/plain": [
       "'Hello,小明,成绩提升了17.2%'"
      ]
     },
     "execution_count": 28,
     "metadata": {},
     "output_type": "execute_result"
    }
   ],
   "source": [
    "'Hello,{0},成绩提升了{1:.1f}%'.format('小明',17.25)"
   ]
  },
  {
   "cell_type": "code",
   "execution_count": 29,
   "metadata": {},
   "outputs": [
    {
     "name": "stdout",
     "output_type": "stream",
     "text": [
      "The area of a circle with radius 2.5 is 19.62\n"
     ]
    }
   ],
   "source": [
    "r=2.5\n",
    "s=3.14*r**2\n",
    "print(f'The area of a circle with radius {r} is {s:.2f}')"
   ]
  },
  {
   "cell_type": "code",
   "execution_count": 31,
   "metadata": {},
   "outputs": [
    {
     "name": "stdout",
     "output_type": "stream",
     "text": [
      "小明成绩提升的百分点为0.18%\n",
      "小明成绩提升的百分点为0.18%\n",
      "小明成绩提升的百分点为0.18%\n"
     ]
    }
   ],
   "source": [
    "s1=72\n",
    "s2=85\n",
    "r=(85-72)/72\n",
    "print('小明成绩提升的百分点为%.2f%%'%r)\n",
    "print('小明成绩提升的百分点为{0:.2f}%'.format(r))\n",
    "print(f'小明成绩提升的百分点为{r:.2f}%')"
   ]
  },
  {
   "cell_type": "markdown",
   "metadata": {},
   "source": [
    "list 列表，一种有序集合,List=['','',''],取元素classmate[],取最后一个元素classmate[-1];列表末尾加元素classmate.append('');元素插入到指定位置classmate.insert(1,'');删除列表某位置元素classmate.pop(i);某个元素替换为别的元素classmate[1]='';List里面元素类型可以不同，元素也可以是另一个list。"
   ]
  },
  {
   "cell_type": "code",
   "execution_count": 1,
   "metadata": {},
   "outputs": [
    {
     "data": {
      "text/plain": [
       "3"
      ]
     },
     "execution_count": 1,
     "metadata": {},
     "output_type": "execute_result"
    }
   ],
   "source": [
    "classmate=['Michael','Bob','Tracy']\n",
    "\n"
   ]
  },
  {
   "cell_type": "code",
   "execution_count": 4,
   "metadata": {},
   "outputs": [
    {
     "data": {
      "text/plain": [
       "4"
      ]
     },
     "execution_count": 4,
     "metadata": {},
     "output_type": "execute_result"
    }
   ],
   "source": [
    "s=['python','java',['asp','php'],'scheme']\n",
    "len(s)"
   ]
  },
  {
   "cell_type": "code",
   "execution_count": 5,
   "metadata": {},
   "outputs": [
    {
     "data": {
      "text/plain": [
       "'php'"
      ]
     },
     "execution_count": 5,
     "metadata": {},
     "output_type": "execute_result"
    }
   ],
   "source": [
    "s[2][1]"
   ]
  },
  {
   "cell_type": "markdown",
   "metadata": {},
   "source": [
    "tuple元组，有序，不可以修改，classmate=('Michael','Bob','Tracy'),定义只有一个元素的元组应该这样写t=(1,)。"
   ]
  },
  {
   "cell_type": "code",
   "execution_count": 6,
   "metadata": {},
   "outputs": [
    {
     "name": "stdout",
     "output_type": "stream",
     "text": [
      "Apple\n",
      "Python\n",
      "Lisa\n"
     ]
    }
   ],
   "source": [
    "L=[['Apple','Google','Microsoft'],['Java','Python','Ruby','PHP'],['Adam','Bart','Lisa']]\n",
    "print(L[0][0])\n",
    "print(L[1][1])\n",
    "print(L[2][2])"
   ]
  },
  {
   "cell_type": "markdown",
   "metadata": {},
   "source": [
    "条件判断，if age>18:print() else:print()\n",
    "if age>18:print() elif age>6:print() else:print()\n",
    "if从上往下判断，如果在某个判断上市True，则该判断执行的语句执行后，就忽略剩下的elif和else。"
   ]
  },
  {
   "cell_type": "code",
   "execution_count": 9,
   "metadata": {},
   "outputs": [
    {
     "name": "stdout",
     "output_type": "stream",
     "text": [
      "过重\n"
     ]
    }
   ],
   "source": [
    "height=float(input('身高是'))\n",
    "weight=float(input('体重是'))\n",
    "bmi=weight/(height**2)\n",
    "if bmi>32:\n",
    "    print('严重肥胖')\n",
    "elif bmi>28:\n",
    "    print('肥胖')\n",
    "elif bmi>25:\n",
    "    print('过重')\n",
    "elif bmi>18.5:\n",
    "    print('正常')\n",
    "else:print('过轻')"
   ]
  },
  {
   "cell_type": "markdown",
   "metadata": {},
   "source": [
    "模式匹配，match，依次用case 匹配，并且可以在最后（且仅能在最后）加一个case _表示“任意值”,case 11|12|13|14|15|16|17|18能匹配多个值，match还可以匹配列表"
   ]
  },
  {
   "cell_type": "code",
   "execution_count": 11,
   "metadata": {},
   "outputs": [
    {
     "name": "stdout",
     "output_type": "stream",
     "text": [
      "11~18 years old.\n"
     ]
    }
   ],
   "source": [
    "age=15\n",
    "match age:\n",
    "    case x if x<10:\n",
    "        print(f'<10 years old:{x}')\n",
    "    case 10:\n",
    "        print('10 years old')\n",
    "    case 11|12|13|14|15|16|17|18:\n",
    "        print('11~18 years old.')\n",
    "    case 19:\n",
    "        print('19 years old.')\n",
    "    case _:\n",
    "        print('not sure')"
   ]
  },
  {
   "cell_type": "code",
   "execution_count": 1,
   "metadata": {},
   "outputs": [
    {
     "name": "stdout",
     "output_type": "stream",
     "text": [
      "gcc compile:hello.c,world.c\n"
     ]
    }
   ],
   "source": [
    "args=['gcc','hello.c','world.c']\n",
    "match args:\n",
    "    case ['gcc']:\n",
    "        print('gcc:missing source files,')\n",
    "    case ['gcc',file1,*files]:\n",
    "        print('gcc compile:'+file1+','+','.join(files))\n",
    "    case ['clean']:\n",
    "        print('clean')\n",
    "    case _:\n",
    "        print('invalid command')"
   ]
  },
  {
   "cell_type": "markdown",
   "metadata": {},
   "source": [
    "循环\n",
    "第一种：for...in循环\n",
    "第二种：while循环，条件满足就不断循环，条件不满足时退出循环。\n",
    "range()函数可以生成一个整数序列，再通过list()函数转换成list，如list(range(5))为[0,1,2,3,4]\n",
    "break:在循环中，break语句可以提前退出循环\n",
    "continue:跳过当前循环，直接开始下一次循环。"
   ]
  },
  {
   "cell_type": "code",
   "execution_count": 2,
   "metadata": {},
   "outputs": [
    {
     "name": "stdout",
     "output_type": "stream",
     "text": [
      "Michael\n",
      "Bob\n",
      "Tracy\n",
      "55\n",
      "5050\n"
     ]
    }
   ],
   "source": [
    "names=['Michael','Bob','Tracy']\n",
    "for name in names:\n",
    "    print(name)\n",
    "sum=0\n",
    "for x in [1,2,3,4,5,6,7,8,9,10]:\n",
    "    sum=sum+x\n",
    "print(sum)\n",
    "s=0\n",
    "for x in range(101):\n",
    "    s=s+x\n",
    "print(s)"
   ]
  },
  {
   "cell_type": "code",
   "execution_count": 9,
   "metadata": {},
   "outputs": [
    {
     "name": "stdout",
     "output_type": "stream",
     "text": [
      "Hello,Bart\n",
      "Hello,Lisa\n",
      "Hello,Adam\n"
     ]
    }
   ],
   "source": [
    "L=['Bart','Lisa','Adam']\n",
    "for name in L:\n",
    "    print(f'Hello,{name}')"
   ]
  },
  {
   "cell_type": "code",
   "execution_count": 10,
   "metadata": {},
   "outputs": [
    {
     "name": "stdout",
     "output_type": "stream",
     "text": [
      "1\n",
      "3\n",
      "5\n",
      "7\n",
      "9\n"
     ]
    }
   ],
   "source": [
    "n=0\n",
    "while n<10:\n",
    "    n=n+1\n",
    "    if n%2==0:\n",
    "        continue\n",
    "    print(n)"
   ]
  },
  {
   "cell_type": "markdown",
   "metadata": {},
   "source": [
    "dict:字典，键-值存储（key-value），d={'Michael':95,'Bob':75,'Tracy':85},d['Michael'],除了初始化时指定，也可以通过key放入，如：d['Adam']=67。为避免key不存在的错误，有两种方法，一是通过in判断key是否存在，二是通过dict提供的get()方法，如果key不存在，可以返回None，或者自己指定的value。删除key，用pop(key)的方法，对应的value也会从dict中删除"
   ]
  },
  {
   "cell_type": "code",
   "execution_count": 11,
   "metadata": {},
   "outputs": [
    {
     "name": "stdout",
     "output_type": "stream",
     "text": [
      "False\n",
      "None\n",
      "-1\n"
     ]
    }
   ],
   "source": [
    "d={'Michael':95,'Bob':75,'Tracy':85}\n",
    "print('Thomas' in d)\n",
    "print(d.get('Thomas'))\n",
    "print(d.get('Thomas',-1))"
   ]
  },
  {
   "cell_type": "markdown",
   "metadata": {},
   "source": [
    "set也是一组key的集合，但不存储value。由于key不能重复，所以，在key中没有重复的key.通过add(key)方法可以添加元素到set中，通过remove(key)方法可以删除元素。两个set可以做交集和并集，&和|.字符串有replace()方法，str.replace( , )"
   ]
  },
  {
   "cell_type": "code",
   "execution_count": 7,
   "metadata": {},
   "outputs": [
    {
     "name": "stdout",
     "output_type": "stream",
     "text": [
      "{2, 3}\n",
      "{1, 2, 3, 4}\n"
     ]
    }
   ],
   "source": [
    "s1=set([1,2,3])\n",
    "s2=set([2,3,4])\n",
    "s=s1&s2\n",
    "b=s1|s2\n",
    "print(s)\n",
    "print(b)"
   ]
  },
  {
   "cell_type": "markdown",
   "metadata": {},
   "source": [
    "定义函数：def语句，def my_abs(x):\n",
    "如果已经把my_abs()函数定义保存在test1.py文件中，则可以用from test1 import my_abs来导入my_abs()函数。\n",
    "\n",
    "对参数类型做检查，只允许整数和浮点数类型的参数，可以用内置函数isinstance()来实现.\n",
    "\n",
    "raise raise的基本语法结构raise exceptionName (reason) exceptionName ：异常名称，须是定义好的错误类型，或本身存在的错误类型；\n",
    "raise TypeError('bad operand type')\n"
   ]
  },
  {
   "cell_type": "markdown",
   "metadata": {},
   "source": [
    "函数的参数：默认参数，def power(x,n=2)。可以不按顺序提供部分默认参数，需要把参数名写上。\n",
    "可变参数，将参数作为一个list或tuple传进去，参数前加一个*号，可以将1，2，3变成一个tuple\n",
    "nums=[1,2,3],*nums表示把nums这个list的所有元素作为可变参数传进去\n",
    "关键字参数：允许传入0个或任意个含参数名的参数，这些关键字参数在函数内部自动组装成一个dict,def person(name,age,**kw):。"
   ]
  },
  {
   "cell_type": "code",
   "execution_count": 2,
   "metadata": {},
   "outputs": [
    {
     "name": "stdout",
     "output_type": "stream",
     "text": [
      "14\n",
      "14\n"
     ]
    }
   ],
   "source": [
    "\n",
    "def calc1(numbers):\n",
    "    sum=0\n",
    "    for n in numbers:\n",
    "        sum=sum+n*n\n",
    "    return sum\n",
    "\n",
    "print(calc1((1,2,3)))\n",
    "\n",
    "def calc(*numbers):\n",
    "    sum=0\n",
    "    for n in numbers:\n",
    "        sum=sum+n*n\n",
    "    return sum\n",
    "\n",
    "print(calc(1,2,3))"
   ]
  },
  {
   "cell_type": "code",
   "execution_count": 1,
   "metadata": {},
   "outputs": [
    {
     "name": "stdout",
     "output_type": "stream",
     "text": [
      "name: Anny age: 35 other: {'city': 'Beijing'}\n",
      "name: kin age: 78 other: {'gender': 'M', 'job': 'Engineer'}\n"
     ]
    }
   ],
   "source": [
    "def person(name,age,**kw):\n",
    "    print('name:',name,'age:',age,'other:',kw)\n",
    "person('Anny',35,city='Beijing')\n",
    "person('kin',78,gender='M',job='Engineer')\n"
   ]
  },
  {
   "cell_type": "markdown",
   "metadata": {},
   "source": [
    "递归函数：函数在内部调用函数本身"
   ]
  },
  {
   "cell_type": "code",
   "execution_count": 1,
   "metadata": {},
   "outputs": [
    {
     "data": {
      "text/plain": [
       "120"
      ]
     },
     "execution_count": 1,
     "metadata": {},
     "output_type": "execute_result"
    }
   ],
   "source": [
    "def fact(n):\n",
    "    if n==1:\n",
    "        return 1\n",
    "    return n*fact(n-1)\n",
    "\n",
    "fact(5)"
   ]
  },
  {
   "cell_type": "markdown",
   "metadata": {},
   "source": [
    "切片：L[0:3]，从索引0开始取，直到索引3为止，但不包括索引3.还可以倒着切片，L[-2:-1].前十个，每两个取一个，L[:10:2];所有，每5个取一个L[::5].tuple也可以用切片操作，字符串也可以用切片操作"
   ]
  },
  {
   "cell_type": "code",
   "execution_count": 1,
   "metadata": {},
   "outputs": [
    {
     "name": "stdout",
     "output_type": "stream",
     "text": [
      "[0, 1, 2, 3, 4, 5, 6, 7, 8, 9, 10, 11, 12, 13, 14, 15, 16, 17, 18, 19, 20, 21, 22, 23, 24, 25, 26, 27, 28, 29, 30, 31, 32, 33, 34, 35, 36, 37, 38, 39, 40, 41, 42, 43, 44, 45, 46, 47, 48, 49, 50, 51, 52, 53, 54, 55, 56, 57, 58, 59, 60, 61, 62, 63, 64, 65, 66, 67, 68, 69, 70, 71, 72, 73, 74, 75, 76, 77, 78, 79, 80, 81, 82, 83, 84, 85, 86, 87, 88, 89, 90, 91, 92, 93, 94, 95, 96, 97, 98, 99]\n",
      "[0, 1, 2, 3, 4, 5, 6, 7, 8, 9]\n",
      "[90, 91, 92, 93, 94, 95, 96, 97, 98, 99]\n",
      "[90, 92, 94, 96, 98]\n"
     ]
    },
    {
     "data": {
      "text/plain": [
       "'ACE'"
      ]
     },
     "execution_count": 1,
     "metadata": {},
     "output_type": "execute_result"
    }
   ],
   "source": [
    "L=list(range(100))\n",
    "print(L)\n",
    "print(L[:10])\n",
    "print(L[-10:])\n",
    "print(L[-10::2])\n",
    "'ABCDEFG'[:6:2]"
   ]
  },
  {
   "cell_type": "markdown",
   "metadata": {},
   "source": [
    "迭代：给定一个list或tuple，通过for循环来遍历这个list或tuple，这种遍历成为迭代。\n",
    "\n",
    "python中迭代是通过for..in来完成的。\n",
    "默认情况下，dict迭代的是key。如果要迭代value，可以用for value in d.values(),如果要同时迭代key和value，可以用for k,v in d.items()。\n",
    "字符串也是可迭代对象for ch in 'ABC':\n",
    "    print(ch)\n",
    "如何判断一个对象是可迭代对象，方法是通过collections.abc模块的Iterable类型判断。"
   ]
  },
  {
   "cell_type": "code",
   "execution_count": 2,
   "metadata": {},
   "outputs": [
    {
     "name": "stdout",
     "output_type": "stream",
     "text": [
      "a\n",
      "b\n",
      "c\n",
      "1\n",
      "2\n",
      "3\n",
      "a 1\n",
      "b 2\n",
      "c 3\n",
      "A\n",
      "B\n",
      "C\n"
     ]
    }
   ],
   "source": [
    "d={'a':1,'b':2,'c':3}\n",
    "for i in d:\n",
    "    print(i)\n",
    "for i in d.values():\n",
    "    print(i)\n",
    "for k,v in d.items():\n",
    "    print(k,v)\n",
    "for ch in 'ABC':\n",
    "    print(ch)"
   ]
  },
  {
   "cell_type": "code",
   "execution_count": 8,
   "metadata": {},
   "outputs": [
    {
     "name": "stdout",
     "output_type": "stream",
     "text": [
      "True\n",
      "a\n",
      "b\n",
      "c\n"
     ]
    }
   ],
   "source": [
    "from collections.abc import Iterable\n",
    "if isinstance('abc',Iterable):\n",
    "    print(True)\n",
    "    for i in 'abc':\n",
    "        print(i)\n",
    "else: print(False)\n",
    "\n"
   ]
  },
  {
   "cell_type": "markdown",
   "metadata": {},
   "source": [
    "enumerate函数可以把一个list变成索引-元素对，这样就可以在for循环中同时迭代索引和元素本身。\n",
    "for 循环中可以同时引用多个变量，例如：for x,y in [(1,1),(2,4),(3,9)]:"
   ]
  },
  {
   "cell_type": "code",
   "execution_count": 12,
   "metadata": {},
   "outputs": [
    {
     "name": "stdout",
     "output_type": "stream",
     "text": [
      "0 A\n",
      "1 B\n",
      "2 C\n",
      "1 1\n",
      "2 4\n",
      "3 9\n",
      "(1, 1)\n",
      "(2, 4)\n",
      "(3, 9)\n"
     ]
    }
   ],
   "source": [
    "for i,value in enumerate(['A','B','C']):\n",
    "    print(i,value)\n",
    "for x,y in [(1,1),(2,4),(3,9)]:\n",
    "    print(x,y)\n",
    "for i in [(1,1),(2,4),(3,9)]:\n",
    "    print(i)"
   ]
  },
  {
   "cell_type": "markdown",
   "metadata": {},
   "source": [
    "列表生成式\n",
    "生成list[1,2,3,4,5,6,7,8,9]可以用list(range(1,11))\n",
    "生成[1x1,2x2,3x3,...,10x10]方法一是循环：for x in range(1,11):L.append(x*x)\n",
    "方法二列表生成式，[x*x for x in range(1,11)]\n"
   ]
  },
  {
   "cell_type": "code",
   "execution_count": 18,
   "metadata": {},
   "outputs": [
    {
     "name": "stdout",
     "output_type": "stream",
     "text": [
      "[1, 4, 9, 16, 25, 36, 49, 64, 81, 100]\n"
     ]
    },
    {
     "data": {
      "text/plain": [
       "[4, 9, 16, 25, 36, 49, 64, 81, 100]"
      ]
     },
     "execution_count": 18,
     "metadata": {},
     "output_type": "execute_result"
    }
   ],
   "source": [
    "L=[]\n",
    "for x in range(1,11):\n",
    "    L.append(x*x)\n",
    "print(L)\n",
    "\n",
    "[x*x for x in range(2,11)]"
   ]
  },
  {
   "cell_type": "code",
   "execution_count": 3,
   "metadata": {},
   "outputs": [
    {
     "name": "stdout",
     "output_type": "stream",
     "text": [
      "[4, 16, 36, 64, 100]\n",
      "['AX', 'AY', 'AZ', 'BX', 'BY', 'BZ', 'CX', 'CY', 'CZ']\n"
     ]
    },
    {
     "data": {
      "text/plain": [
       "['hello', 'world', 'ibm', 'apple']"
      ]
     },
     "execution_count": 3,
     "metadata": {},
     "output_type": "execute_result"
    }
   ],
   "source": [
    "#列表生成式 for循环后面还可以加上if判断\n",
    "print([x*x for x in range(1,11) if x%2==0])\n",
    "#还可以使用两层循环，生成全排列\n",
    "print([m+n for m in 'ABC' for n in 'XYZ'])\n",
    "#运用列表生成式，可以列出当前目录下的所有文件和目录名\n",
    "import os\n",
    "[d for d in os.listdir('.')]#os.listdir可以列出文件和目录\n",
    "#列表生成式也可以使用两个变量来生成list:\n",
    "d={'x':'A','y':'B','z':'C'}\n",
    "[k+'='+v for k,v in d.items()]\n",
    "#最后把一个list中所有的字符串变成小写：\n",
    "L=['Hello','world','IBM','Apple']\n",
    "[s.lower() for s in L]\n"
   ]
  },
  {
   "cell_type": "code",
   "execution_count": 2,
   "metadata": {},
   "outputs": [
    {
     "data": {
      "text/plain": [
       "['hello', 'world', 'apple']"
      ]
     },
     "execution_count": 2,
     "metadata": {},
     "output_type": "execute_result"
    }
   ],
   "source": [
    "#if...else 用法，if写在for前面必须加else，因为for前面的部分是一个表达式，它必须根据x计算出结果，因此必须加上else ,[x if x%2==0 else -x for x in range(1,11)]\n",
    "L=['Hello','World',18,'Apple',None]\n",
    "[s.lower() if isinstance(s,str) else s for s in L]\n",
    "[s.lower() for s in L if isinstance(s,str)]\n"
   ]
  },
  {
   "cell_type": "markdown",
   "metadata": {},
   "source": [
    "生成器 generator：一边循环一边计算的机制。如果列表元素可以按照某种算法推算出来，那我们可以在循环的过程中不断推算出后续的元素，这样就不必创建完整的list。\n",
    "创建generator的方法：\n",
    "    第一种方法：只要把一个列表生成式的[]改成()，就创建了一个generator,如果要一个一个打印出来，可以通过next()函数获得generator的下一个返回值。也可以使用for循环来打印generator，因为generator也是可迭代对象。\n",
    "    另一种方法:如果一个函数定义中包含yield关键字，那么这个函数就不再是一个普通函数，而是一个generator函数，调用一个generator函数将返回一个generator。generator函数和普通函数的执行流程不一样，普通函数是顺序执行，遇到return语句或者最后一行函数语句就返回；而generator函数在每次调用next()的时候执行，遇到yield语句返回，再次执行时从上次返回的yield语句出继续执行。将函数改为generator函数后，我们基本上从来不用next()来获取下一个返回值，而是直接用for循环来迭代。"
   ]
  },
  {
   "cell_type": "code",
   "execution_count": 8,
   "metadata": {},
   "outputs": [
    {
     "name": "stdout",
     "output_type": "stream",
     "text": [
      "[0, 1, 4, 9, 16, 25, 36, 49, 64, 81]\n",
      "<generator object <genexpr> at 0x0000015150F7E190>\n"
     ]
    }
   ],
   "source": [
    "L=[x*x for x in range(10)]\n",
    "print(L)\n",
    "g=(x*x for x in range(10))\n",
    "print(g)\n",
    "#L和g的区别就是最外层的[]和()，L是一个list，而g是一个generator"
   ]
  },
  {
   "cell_type": "code",
   "execution_count": 10,
   "metadata": {},
   "outputs": [
    {
     "name": "stdout",
     "output_type": "stream",
     "text": [
      "0\n",
      "1\n",
      "4\n",
      "9\n",
      "16\n",
      "25\n",
      "36\n",
      "49\n",
      "64\n",
      "81\n"
     ]
    }
   ],
   "source": [
    "g=(x*x for x in range (10))\n",
    "for n in g:\n",
    "    print(n)\n",
    "\n"
   ]
  },
  {
   "cell_type": "code",
   "execution_count": 11,
   "metadata": {},
   "outputs": [
    {
     "name": "stdout",
     "output_type": "stream",
     "text": [
      "1\n",
      "1\n",
      "2\n",
      "3\n",
      "5\n",
      "8\n"
     ]
    },
    {
     "data": {
      "text/plain": [
       "'done'"
      ]
     },
     "execution_count": 11,
     "metadata": {},
     "output_type": "execute_result"
    }
   ],
   "source": [
    "def fib(max):\n",
    "    n,a,b=0,0,1\n",
    "    while n<max:\n",
    "        print(b)\n",
    "        a,b=b,a+b\n",
    "        n=n+1\n",
    "    return 'done'\n",
    "fib(6)"
   ]
  },
  {
   "cell_type": "code",
   "execution_count": 12,
   "metadata": {},
   "outputs": [
    {
     "name": "stdout",
     "output_type": "stream",
     "text": [
      "step 1\n",
      "step 2\n",
      "step 3\n"
     ]
    },
    {
     "data": {
      "text/plain": [
       "5"
      ]
     },
     "execution_count": 12,
     "metadata": {},
     "output_type": "execute_result"
    }
   ],
   "source": [
    "#定义一个generator函数，依次返回数字1，3，5：\n",
    "def odd():\n",
    "    print('step 1')\n",
    "    yield 1\n",
    "    print('step 2')\n",
    "    yield(3)\n",
    "    print('step 3')\n",
    "    yield(5)\n",
    "o=odd()\n",
    "next(o)\n",
    "next(o)\n",
    "next(o)"
   ]
  },
  {
   "cell_type": "code",
   "execution_count": 13,
   "metadata": {},
   "outputs": [
    {
     "name": "stdout",
     "output_type": "stream",
     "text": [
      "[1]\n",
      "[1, 1]\n",
      "[1, 2, 1]\n",
      "[1, 3, 3, 1]\n",
      "[1, 4, 6, 4, 1]\n",
      "[1, 5, 10, 10, 5, 1]\n",
      "[1, 6, 15, 20, 15, 6, 1]\n",
      "[1, 7, 21, 35, 35, 21, 7, 1]\n",
      "[1, 8, 28, 56, 70, 56, 28, 8, 1]\n",
      "[1, 9, 36, 84, 126, 126, 84, 36, 9, 1]\n",
      "测试通过!\n"
     ]
    }
   ],
   "source": [
    "def triangles():\n",
    "    L=[1]\n",
    "    while True:\n",
    "        yield L\n",
    "        L=[1]+[L[i]+L[i+1] for i in range(len(L)-1)]+[1]\n",
    "n = 0\n",
    "results = []\n",
    "for t in triangles():\n",
    "    results.append(t)\n",
    "    n = n + 1\n",
    "    if n == 10:\n",
    "        break\n",
    "\n",
    "for t in results:\n",
    "    print(t)\n",
    "\n",
    "if results == [\n",
    "    [1],\n",
    "    [1, 1],\n",
    "    [1, 2, 1],\n",
    "    [1, 3, 3, 1],\n",
    "    [1, 4, 6, 4, 1],\n",
    "    [1, 5, 10, 10, 5, 1],\n",
    "    [1, 6, 15, 20, 15, 6, 1],\n",
    "    [1, 7, 21, 35, 35, 21, 7, 1],\n",
    "    [1, 8, 28, 56, 70, 56, 28, 8, 1],\n",
    "    [1, 9, 36, 84, 126, 126, 84, 36, 9, 1]\n",
    "]:\n",
    "    print('测试通过!')\n",
    "else:\n",
    "    print('测试失败!')"
   ]
  },
  {
   "cell_type": "markdown",
   "metadata": {},
   "source": [
    "可以直接作用于for循环的对象统称为可迭代对象：Iterable。\n",
    "一类是集合数据类型，如list、tuple、dict、set、str等\n",
    "一类是generator，包括生成器和带yield的generator函数。\n",
    "可以用isinstance()判断一个对象是否是Iterable对象。from collections.abc import Iterable.\n",
    "\n",
    "而生成器不但可以作用于for循环，还可以被next()函数不断调用并返回下一个值。\n",
    "可以被next()函数调用并不断返回下一个值的对象称为迭代器：Iterator，可以使用isinstance()判断一个对象是否为Iterator对象。from collections.abc import Iterator.\n"
   ]
  },
  {
   "cell_type": "code",
   "execution_count": 2,
   "metadata": {},
   "outputs": [
    {
     "data": {
      "text/plain": [
       "True"
      ]
     },
     "execution_count": 2,
     "metadata": {},
     "output_type": "execute_result"
    }
   ],
   "source": [
    "from collections.abc import Iterable\n",
    "from collections.abc import Iterator\n",
    "isinstance([],Iterable)\n",
    "isinstance((x for x in range(10)),Iterator)"
   ]
  },
  {
   "cell_type": "code",
   "execution_count": null,
   "metadata": {},
   "outputs": [],
   "source": []
  }
 ],
 "metadata": {
  "kernelspec": {
   "display_name": "Python 3",
   "language": "python",
   "name": "python3"
  },
  "language_info": {
   "codemirror_mode": {
    "name": "ipython",
    "version": 3
   },
   "file_extension": ".py",
   "mimetype": "text/x-python",
   "name": "python",
   "nbconvert_exporter": "python",
   "pygments_lexer": "ipython3",
   "version": "3.12.3"
  }
 },
 "nbformat": 4,
 "nbformat_minor": 2
}
